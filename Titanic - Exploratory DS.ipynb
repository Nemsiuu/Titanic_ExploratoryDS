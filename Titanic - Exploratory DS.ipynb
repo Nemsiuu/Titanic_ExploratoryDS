{
 "cells": [
  {
   "cell_type": "code",
   "execution_count": 1,
   "id": "f1f03c64",
   "metadata": {},
   "outputs": [],
   "source": [
    "import pandas as pd\n",
    "import numpy as np\n",
    "import matplotlib.pyplot as plt\n",
    "import seaborn as sns"
   ]
  },
  {
   "cell_type": "markdown",
   "id": "e19276e3",
   "metadata": {},
   "source": [
    "### Import train and test datasets"
   ]
  },
  {
   "cell_type": "code",
   "execution_count": 2,
   "id": "483ec42c",
   "metadata": {},
   "outputs": [],
   "source": [
    "train = pd.read_csv('train.csv')\n",
    "\n",
    "test = pd.read_csv('test.csv')\n"
   ]
  },
  {
   "cell_type": "code",
   "execution_count": 3,
   "id": "89392623",
   "metadata": {},
   "outputs": [
    {
     "data": {
      "text/html": [
       "<div>\n",
       "<style scoped>\n",
       "    .dataframe tbody tr th:only-of-type {\n",
       "        vertical-align: middle;\n",
       "    }\n",
       "\n",
       "    .dataframe tbody tr th {\n",
       "        vertical-align: top;\n",
       "    }\n",
       "\n",
       "    .dataframe thead th {\n",
       "        text-align: right;\n",
       "    }\n",
       "</style>\n",
       "<table border=\"1\" class=\"dataframe\">\n",
       "  <thead>\n",
       "    <tr style=\"text-align: right;\">\n",
       "      <th></th>\n",
       "      <th>PassengerId</th>\n",
       "      <th>Survived</th>\n",
       "      <th>Pclass</th>\n",
       "      <th>Name</th>\n",
       "      <th>Sex</th>\n",
       "      <th>Age</th>\n",
       "      <th>SibSp</th>\n",
       "      <th>Parch</th>\n",
       "      <th>Ticket</th>\n",
       "      <th>Fare</th>\n",
       "      <th>Cabin</th>\n",
       "      <th>Embarked</th>\n",
       "    </tr>\n",
       "  </thead>\n",
       "  <tbody>\n",
       "    <tr>\n",
       "      <th>0</th>\n",
       "      <td>1</td>\n",
       "      <td>0</td>\n",
       "      <td>3</td>\n",
       "      <td>Braund, Mr. Owen Harris</td>\n",
       "      <td>male</td>\n",
       "      <td>22.0</td>\n",
       "      <td>1</td>\n",
       "      <td>0</td>\n",
       "      <td>A/5 21171</td>\n",
       "      <td>7.2500</td>\n",
       "      <td>NaN</td>\n",
       "      <td>S</td>\n",
       "    </tr>\n",
       "    <tr>\n",
       "      <th>1</th>\n",
       "      <td>2</td>\n",
       "      <td>1</td>\n",
       "      <td>1</td>\n",
       "      <td>Cumings, Mrs. John Bradley (Florence Briggs Th...</td>\n",
       "      <td>female</td>\n",
       "      <td>38.0</td>\n",
       "      <td>1</td>\n",
       "      <td>0</td>\n",
       "      <td>PC 17599</td>\n",
       "      <td>71.2833</td>\n",
       "      <td>C85</td>\n",
       "      <td>C</td>\n",
       "    </tr>\n",
       "    <tr>\n",
       "      <th>2</th>\n",
       "      <td>3</td>\n",
       "      <td>1</td>\n",
       "      <td>3</td>\n",
       "      <td>Heikkinen, Miss. Laina</td>\n",
       "      <td>female</td>\n",
       "      <td>26.0</td>\n",
       "      <td>0</td>\n",
       "      <td>0</td>\n",
       "      <td>STON/O2. 3101282</td>\n",
       "      <td>7.9250</td>\n",
       "      <td>NaN</td>\n",
       "      <td>S</td>\n",
       "    </tr>\n",
       "    <tr>\n",
       "      <th>3</th>\n",
       "      <td>4</td>\n",
       "      <td>1</td>\n",
       "      <td>1</td>\n",
       "      <td>Futrelle, Mrs. Jacques Heath (Lily May Peel)</td>\n",
       "      <td>female</td>\n",
       "      <td>35.0</td>\n",
       "      <td>1</td>\n",
       "      <td>0</td>\n",
       "      <td>113803</td>\n",
       "      <td>53.1000</td>\n",
       "      <td>C123</td>\n",
       "      <td>S</td>\n",
       "    </tr>\n",
       "    <tr>\n",
       "      <th>4</th>\n",
       "      <td>5</td>\n",
       "      <td>0</td>\n",
       "      <td>3</td>\n",
       "      <td>Allen, Mr. William Henry</td>\n",
       "      <td>male</td>\n",
       "      <td>35.0</td>\n",
       "      <td>0</td>\n",
       "      <td>0</td>\n",
       "      <td>373450</td>\n",
       "      <td>8.0500</td>\n",
       "      <td>NaN</td>\n",
       "      <td>S</td>\n",
       "    </tr>\n",
       "  </tbody>\n",
       "</table>\n",
       "</div>"
      ],
      "text/plain": [
       "   PassengerId  Survived  Pclass  \\\n",
       "0            1         0       3   \n",
       "1            2         1       1   \n",
       "2            3         1       3   \n",
       "3            4         1       1   \n",
       "4            5         0       3   \n",
       "\n",
       "                                                Name     Sex   Age  SibSp  \\\n",
       "0                            Braund, Mr. Owen Harris    male  22.0      1   \n",
       "1  Cumings, Mrs. John Bradley (Florence Briggs Th...  female  38.0      1   \n",
       "2                             Heikkinen, Miss. Laina  female  26.0      0   \n",
       "3       Futrelle, Mrs. Jacques Heath (Lily May Peel)  female  35.0      1   \n",
       "4                           Allen, Mr. William Henry    male  35.0      0   \n",
       "\n",
       "   Parch            Ticket     Fare Cabin Embarked  \n",
       "0      0         A/5 21171   7.2500   NaN        S  \n",
       "1      0          PC 17599  71.2833   C85        C  \n",
       "2      0  STON/O2. 3101282   7.9250   NaN        S  \n",
       "3      0            113803  53.1000  C123        S  \n",
       "4      0            373450   8.0500   NaN        S  "
      ]
     },
     "execution_count": 3,
     "metadata": {},
     "output_type": "execute_result"
    }
   ],
   "source": [
    "train.head()"
   ]
  },
  {
   "cell_type": "code",
   "execution_count": 4,
   "id": "379f9b60",
   "metadata": {},
   "outputs": [
    {
     "data": {
      "text/html": [
       "<div>\n",
       "<style scoped>\n",
       "    .dataframe tbody tr th:only-of-type {\n",
       "        vertical-align: middle;\n",
       "    }\n",
       "\n",
       "    .dataframe tbody tr th {\n",
       "        vertical-align: top;\n",
       "    }\n",
       "\n",
       "    .dataframe thead th {\n",
       "        text-align: right;\n",
       "    }\n",
       "</style>\n",
       "<table border=\"1\" class=\"dataframe\">\n",
       "  <thead>\n",
       "    <tr style=\"text-align: right;\">\n",
       "      <th></th>\n",
       "      <th>PassengerId</th>\n",
       "      <th>Pclass</th>\n",
       "      <th>Name</th>\n",
       "      <th>Sex</th>\n",
       "      <th>Age</th>\n",
       "      <th>SibSp</th>\n",
       "      <th>Parch</th>\n",
       "      <th>Ticket</th>\n",
       "      <th>Fare</th>\n",
       "      <th>Cabin</th>\n",
       "      <th>Embarked</th>\n",
       "    </tr>\n",
       "  </thead>\n",
       "  <tbody>\n",
       "    <tr>\n",
       "      <th>0</th>\n",
       "      <td>892</td>\n",
       "      <td>3</td>\n",
       "      <td>Kelly, Mr. James</td>\n",
       "      <td>male</td>\n",
       "      <td>34.5</td>\n",
       "      <td>0</td>\n",
       "      <td>0</td>\n",
       "      <td>330911</td>\n",
       "      <td>7.8292</td>\n",
       "      <td>NaN</td>\n",
       "      <td>Q</td>\n",
       "    </tr>\n",
       "    <tr>\n",
       "      <th>1</th>\n",
       "      <td>893</td>\n",
       "      <td>3</td>\n",
       "      <td>Wilkes, Mrs. James (Ellen Needs)</td>\n",
       "      <td>female</td>\n",
       "      <td>47.0</td>\n",
       "      <td>1</td>\n",
       "      <td>0</td>\n",
       "      <td>363272</td>\n",
       "      <td>7.0000</td>\n",
       "      <td>NaN</td>\n",
       "      <td>S</td>\n",
       "    </tr>\n",
       "    <tr>\n",
       "      <th>2</th>\n",
       "      <td>894</td>\n",
       "      <td>2</td>\n",
       "      <td>Myles, Mr. Thomas Francis</td>\n",
       "      <td>male</td>\n",
       "      <td>62.0</td>\n",
       "      <td>0</td>\n",
       "      <td>0</td>\n",
       "      <td>240276</td>\n",
       "      <td>9.6875</td>\n",
       "      <td>NaN</td>\n",
       "      <td>Q</td>\n",
       "    </tr>\n",
       "    <tr>\n",
       "      <th>3</th>\n",
       "      <td>895</td>\n",
       "      <td>3</td>\n",
       "      <td>Wirz, Mr. Albert</td>\n",
       "      <td>male</td>\n",
       "      <td>27.0</td>\n",
       "      <td>0</td>\n",
       "      <td>0</td>\n",
       "      <td>315154</td>\n",
       "      <td>8.6625</td>\n",
       "      <td>NaN</td>\n",
       "      <td>S</td>\n",
       "    </tr>\n",
       "    <tr>\n",
       "      <th>4</th>\n",
       "      <td>896</td>\n",
       "      <td>3</td>\n",
       "      <td>Hirvonen, Mrs. Alexander (Helga E Lindqvist)</td>\n",
       "      <td>female</td>\n",
       "      <td>22.0</td>\n",
       "      <td>1</td>\n",
       "      <td>1</td>\n",
       "      <td>3101298</td>\n",
       "      <td>12.2875</td>\n",
       "      <td>NaN</td>\n",
       "      <td>S</td>\n",
       "    </tr>\n",
       "  </tbody>\n",
       "</table>\n",
       "</div>"
      ],
      "text/plain": [
       "   PassengerId  Pclass                                          Name     Sex  \\\n",
       "0          892       3                              Kelly, Mr. James    male   \n",
       "1          893       3              Wilkes, Mrs. James (Ellen Needs)  female   \n",
       "2          894       2                     Myles, Mr. Thomas Francis    male   \n",
       "3          895       3                              Wirz, Mr. Albert    male   \n",
       "4          896       3  Hirvonen, Mrs. Alexander (Helga E Lindqvist)  female   \n",
       "\n",
       "    Age  SibSp  Parch   Ticket     Fare Cabin Embarked  \n",
       "0  34.5      0      0   330911   7.8292   NaN        Q  \n",
       "1  47.0      1      0   363272   7.0000   NaN        S  \n",
       "2  62.0      0      0   240276   9.6875   NaN        Q  \n",
       "3  27.0      0      0   315154   8.6625   NaN        S  \n",
       "4  22.0      1      1  3101298  12.2875   NaN        S  "
      ]
     },
     "execution_count": 4,
     "metadata": {},
     "output_type": "execute_result"
    }
   ],
   "source": [
    "test.head()"
   ]
  },
  {
   "cell_type": "markdown",
   "id": "e5be0085",
   "metadata": {},
   "source": [
    "### Dropping 'PassengerId' and 'Name' features, since we will not use them in prediction"
   ]
  },
  {
   "cell_type": "code",
   "execution_count": 5,
   "id": "b8f50a64",
   "metadata": {},
   "outputs": [],
   "source": [
    "train.drop(['PassengerId','Name'], axis = 'columns', inplace = True)\n",
    "\n",
    "test.drop(['PassengerId','Name'], axis = 'columns', inplace = True)"
   ]
  },
  {
   "cell_type": "markdown",
   "id": "fd9ef7e8",
   "metadata": {},
   "source": [
    "### Dataset information"
   ]
  },
  {
   "cell_type": "code",
   "execution_count": 6,
   "id": "4872e867",
   "metadata": {},
   "outputs": [
    {
     "name": "stdout",
     "output_type": "stream",
     "text": [
      "<class 'pandas.core.frame.DataFrame'>\n",
      "RangeIndex: 891 entries, 0 to 890\n",
      "Data columns (total 10 columns):\n",
      " #   Column    Non-Null Count  Dtype  \n",
      "---  ------    --------------  -----  \n",
      " 0   Survived  891 non-null    int64  \n",
      " 1   Pclass    891 non-null    int64  \n",
      " 2   Sex       891 non-null    object \n",
      " 3   Age       714 non-null    float64\n",
      " 4   SibSp     891 non-null    int64  \n",
      " 5   Parch     891 non-null    int64  \n",
      " 6   Ticket    891 non-null    object \n",
      " 7   Fare      891 non-null    float64\n",
      " 8   Cabin     204 non-null    object \n",
      " 9   Embarked  889 non-null    object \n",
      "dtypes: float64(2), int64(4), object(4)\n",
      "memory usage: 69.7+ KB\n"
     ]
    }
   ],
   "source": [
    "train.info()\n"
   ]
  },
  {
   "cell_type": "markdown",
   "id": "b16c9c2f",
   "metadata": {},
   "source": [
    "### Target feature is 'Survived' ( 0 - not survived, 1 - survived )"
   ]
  },
  {
   "cell_type": "code",
   "execution_count": 7,
   "id": "cd131138",
   "metadata": {},
   "outputs": [
    {
     "data": {
      "text/plain": [
       "0    549\n",
       "1    342\n",
       "Name: Survived, dtype: int64"
      ]
     },
     "execution_count": 7,
     "metadata": {},
     "output_type": "execute_result"
    }
   ],
   "source": [
    "train['Survived'].value_counts()"
   ]
  },
  {
   "cell_type": "markdown",
   "id": "24765534",
   "metadata": {},
   "source": [
    "## Exploratory data analysis"
   ]
  },
  {
   "cell_type": "markdown",
   "id": "c0daf8c9",
   "metadata": {},
   "source": [
    "### Data visualization"
   ]
  },
  {
   "cell_type": "markdown",
   "id": "7995fd11",
   "metadata": {},
   "source": [
    "### Survival rate based on gender. As we can see, women and children were the priority during rescue."
   ]
  },
  {
   "cell_type": "code",
   "execution_count": 8,
   "id": "89a4461e",
   "metadata": {},
   "outputs": [
    {
     "data": {
      "text/plain": [
       "Text(0, 0.5, 'Frequency Count')"
      ]
     },
     "execution_count": 8,
     "metadata": {},
     "output_type": "execute_result"
    },
    {
     "data": {
      "image/png": "[encoded data removed]",
      "text/plain": [
       "<Figure size 432x288 with 1 Axes>"
      ]
     },
     "metadata": {
      "needs_background": "light"
     },
     "output_type": "display_data"
    }
   ],
   "source": [
    "sns.countplot(x = 'Sex', hue = 'Survived', data = train)\n",
    "plt.ylabel('Frequency Count')"
   ]
  },
  {
   "cell_type": "markdown",
   "id": "94945045",
   "metadata": {},
   "source": [
    "### Survival rate based on passenger class. First class has visibly higher rate of rescue in comparison to second and third class."
   ]
  },
  {
   "cell_type": "code",
   "execution_count": 9,
   "id": "08b7f48a",
   "metadata": {},
   "outputs": [
    {
     "data": {
      "image/png": "[encoded data removed]",
      "text/plain": [
       "<Figure size 432x288 with 2 Axes>"
      ]
     },
     "metadata": {
      "needs_background": "light"
     },
     "output_type": "display_data"
    }
   ],
   "source": [
    "pclass_survived = train.groupby(['Pclass', 'Survived']).size().unstack()\n",
    "\n",
    "sns.heatmap(pclass_survived, annot = True, fmt = 'd');"
   ]
  },
  {
   "cell_type": "markdown",
   "id": "5029b222",
   "metadata": {},
   "source": [
    "### Adding New Feature for Passengers with Family and Single Passenger. Family Feature consist of Total Number of Members in the Family of Passengers."
   ]
  },
  {
   "cell_type": "code",
   "execution_count": 10,
   "id": "fb605422",
   "metadata": {},
   "outputs": [],
   "source": [
    "train['Family'] = train['Parch'] + train['SibSp']  # Parents - Children + Siblings - Spouses\n",
    "\n",
    "train['Single'] = np.where(train['Family'] == 0, 1,0)"
   ]
  },
  {
   "cell_type": "code",
   "execution_count": 11,
   "id": "b96fc134",
   "metadata": {},
   "outputs": [
    {
     "data": {
      "text/html": [
       "<div>\n",
       "<style scoped>\n",
       "    .dataframe tbody tr th:only-of-type {\n",
       "        vertical-align: middle;\n",
       "    }\n",
       "\n",
       "    .dataframe tbody tr th {\n",
       "        vertical-align: top;\n",
       "    }\n",
       "\n",
       "    .dataframe thead th {\n",
       "        text-align: right;\n",
       "    }\n",
       "</style>\n",
       "<table border=\"1\" class=\"dataframe\">\n",
       "  <thead>\n",
       "    <tr style=\"text-align: right;\">\n",
       "      <th></th>\n",
       "      <th>Survived</th>\n",
       "      <th>Pclass</th>\n",
       "      <th>Sex</th>\n",
       "      <th>Age</th>\n",
       "      <th>SibSp</th>\n",
       "      <th>Parch</th>\n",
       "      <th>Ticket</th>\n",
       "      <th>Fare</th>\n",
       "      <th>Cabin</th>\n",
       "      <th>Embarked</th>\n",
       "      <th>Family</th>\n",
       "      <th>Single</th>\n",
       "    </tr>\n",
       "  </thead>\n",
       "  <tbody>\n",
       "    <tr>\n",
       "      <th>0</th>\n",
       "      <td>0</td>\n",
       "      <td>3</td>\n",
       "      <td>male</td>\n",
       "      <td>22.0</td>\n",
       "      <td>1</td>\n",
       "      <td>0</td>\n",
       "      <td>A/5 21171</td>\n",
       "      <td>7.2500</td>\n",
       "      <td>NaN</td>\n",
       "      <td>S</td>\n",
       "      <td>1</td>\n",
       "      <td>0</td>\n",
       "    </tr>\n",
       "    <tr>\n",
       "      <th>1</th>\n",
       "      <td>1</td>\n",
       "      <td>1</td>\n",
       "      <td>female</td>\n",
       "      <td>38.0</td>\n",
       "      <td>1</td>\n",
       "      <td>0</td>\n",
       "      <td>PC 17599</td>\n",
       "      <td>71.2833</td>\n",
       "      <td>C85</td>\n",
       "      <td>C</td>\n",
       "      <td>1</td>\n",
       "      <td>0</td>\n",
       "    </tr>\n",
       "    <tr>\n",
       "      <th>2</th>\n",
       "      <td>1</td>\n",
       "      <td>3</td>\n",
       "      <td>female</td>\n",
       "      <td>26.0</td>\n",
       "      <td>0</td>\n",
       "      <td>0</td>\n",
       "      <td>STON/O2. 3101282</td>\n",
       "      <td>7.9250</td>\n",
       "      <td>NaN</td>\n",
       "      <td>S</td>\n",
       "      <td>0</td>\n",
       "      <td>1</td>\n",
       "    </tr>\n",
       "    <tr>\n",
       "      <th>3</th>\n",
       "      <td>1</td>\n",
       "      <td>1</td>\n",
       "      <td>female</td>\n",
       "      <td>35.0</td>\n",
       "      <td>1</td>\n",
       "      <td>0</td>\n",
       "      <td>113803</td>\n",
       "      <td>53.1000</td>\n",
       "      <td>C123</td>\n",
       "      <td>S</td>\n",
       "      <td>1</td>\n",
       "      <td>0</td>\n",
       "    </tr>\n",
       "    <tr>\n",
       "      <th>4</th>\n",
       "      <td>0</td>\n",
       "      <td>3</td>\n",
       "      <td>male</td>\n",
       "      <td>35.0</td>\n",
       "      <td>0</td>\n",
       "      <td>0</td>\n",
       "      <td>373450</td>\n",
       "      <td>8.0500</td>\n",
       "      <td>NaN</td>\n",
       "      <td>S</td>\n",
       "      <td>0</td>\n",
       "      <td>1</td>\n",
       "    </tr>\n",
       "  </tbody>\n",
       "</table>\n",
       "</div>"
      ],
      "text/plain": [
       "   Survived  Pclass     Sex   Age  SibSp  Parch            Ticket     Fare  \\\n",
       "0         0       3    male  22.0      1      0         A/5 21171   7.2500   \n",
       "1         1       1  female  38.0      1      0          PC 17599  71.2833   \n",
       "2         1       3  female  26.0      0      0  STON/O2. 3101282   7.9250   \n",
       "3         1       1  female  35.0      1      0            113803  53.1000   \n",
       "4         0       3    male  35.0      0      0            373450   8.0500   \n",
       "\n",
       "  Cabin Embarked  Family  Single  \n",
       "0   NaN        S       1       0  \n",
       "1   C85        C       1       0  \n",
       "2   NaN        S       0       1  \n",
       "3  C123        S       1       0  \n",
       "4   NaN        S       0       1  "
      ]
     },
     "execution_count": 11,
     "metadata": {},
     "output_type": "execute_result"
    }
   ],
   "source": [
    "train.head()"
   ]
  },
  {
   "cell_type": "markdown",
   "id": "44372db5",
   "metadata": {},
   "source": [
    "### Categorical Plot for passengers with family"
   ]
  },
  {
   "cell_type": "code",
   "execution_count": 12,
   "id": "8ff74aee",
   "metadata": {},
   "outputs": [
    {
     "data": {
      "image/png": "[encoded data removed]",
      "text/plain": [
       "<Figure size 360x360 with 1 Axes>"
      ]
     },
     "metadata": {
      "needs_background": "light"
     },
     "output_type": "display_data"
    }
   ],
   "source": [
    "sns.catplot(x = 'Family', y = 'Survived', data = train, kind = 'point');"
   ]
  },
  {
   "cell_type": "markdown",
   "id": "0bf86c96",
   "metadata": {},
   "source": [
    "### Categorical Plot for single passengers"
   ]
  },
  {
   "cell_type": "code",
   "execution_count": 13,
   "id": "74eb8e7c",
   "metadata": {},
   "outputs": [
    {
     "data": {
      "image/png": "[encoded data removed]",
      "text/plain": [
       "<Figure size 360x360 with 1 Axes>"
      ]
     },
     "metadata": {
      "needs_background": "light"
     },
     "output_type": "display_data"
    }
   ],
   "source": [
    "sns.catplot(x = 'Single', y = 'Survived', data = train, kind = 'point');"
   ]
  },
  {
   "cell_type": "markdown",
   "id": "6895a863",
   "metadata": {},
   "source": [
    "### Survival based on fare. Passengers who paid higher fares had higher survival rate."
   ]
  },
  {
   "cell_type": "code",
   "execution_count": 14,
   "id": "a1122026",
   "metadata": {},
   "outputs": [],
   "source": [
    "train['Fare Range'] = pd.qcut(train['Fare'], 4)"
   ]
  },
  {
   "cell_type": "code",
   "execution_count": 15,
   "id": "93974b81",
   "metadata": {},
   "outputs": [
    {
     "data": {
      "text/plain": [
       "<AxesSubplot:xlabel='Fare Range', ylabel='Survived'>"
      ]
     },
     "execution_count": 15,
     "metadata": {},
     "output_type": "execute_result"
    },
    {
     "data": {
      "image/png": "[encoded data removed]",
      "text/plain": [
       "<Figure size 432x288 with 1 Axes>"
      ]
     },
     "metadata": {
      "needs_background": "light"
     },
     "output_type": "display_data"
    }
   ],
   "source": [
    "sns.barplot(x = 'Fare Range', y = 'Survived', data = train)"
   ]
  },
  {
   "cell_type": "markdown",
   "id": "ca475c0e",
   "metadata": {},
   "source": [
    "### Age distribution"
   ]
  },
  {
   "cell_type": "code",
   "execution_count": 16,
   "id": "2df49db4",
   "metadata": {},
   "outputs": [
    {
     "data": {
      "text/plain": [
       "<seaborn.axisgrid.FacetGrid at 0x1c90f44b700>"
      ]
     },
     "execution_count": 16,
     "metadata": {},
     "output_type": "execute_result"
    },
    {
     "data": {
      "text/plain": [
       "<Figure size 576x432 with 0 Axes>"
      ]
     },
     "metadata": {},
     "output_type": "display_data"
    },
    {
     "data": {
      "image/png": "[encoded data removed]",
      "text/plain": [
       "<Figure size 360x360 with 1 Axes>"
      ]
     },
     "metadata": {},
     "output_type": "display_data"
    }
   ],
   "source": [
    "plt.style.use('seaborn-whitegrid')\n",
    "plt.figure(figsize = (8,6))\n",
    "sns.displot(train['Age'].dropna(), kde = False)"
   ]
  },
  {
   "cell_type": "markdown",
   "id": "35fa343c",
   "metadata": {},
   "source": [
    "## Data preprocessing"
   ]
  },
  {
   "cell_type": "markdown",
   "id": "df57e0fd",
   "metadata": {},
   "source": [
    "### Dropping the Columns Created for Exploratory Data Analysis."
   ]
  },
  {
   "cell_type": "code",
   "execution_count": 17,
   "id": "d3dcad04",
   "metadata": {},
   "outputs": [
    {
     "data": {
      "text/html": [
       "<div>\n",
       "<style scoped>\n",
       "    .dataframe tbody tr th:only-of-type {\n",
       "        vertical-align: middle;\n",
       "    }\n",
       "\n",
       "    .dataframe tbody tr th {\n",
       "        vertical-align: top;\n",
       "    }\n",
       "\n",
       "    .dataframe thead th {\n",
       "        text-align: right;\n",
       "    }\n",
       "</style>\n",
       "<table border=\"1\" class=\"dataframe\">\n",
       "  <thead>\n",
       "    <tr style=\"text-align: right;\">\n",
       "      <th></th>\n",
       "      <th>Survived</th>\n",
       "      <th>Pclass</th>\n",
       "      <th>Sex</th>\n",
       "      <th>Age</th>\n",
       "      <th>SibSp</th>\n",
       "      <th>Parch</th>\n",
       "      <th>Ticket</th>\n",
       "      <th>Fare</th>\n",
       "      <th>Cabin</th>\n",
       "      <th>Embarked</th>\n",
       "    </tr>\n",
       "  </thead>\n",
       "  <tbody>\n",
       "    <tr>\n",
       "      <th>0</th>\n",
       "      <td>0</td>\n",
       "      <td>3</td>\n",
       "      <td>male</td>\n",
       "      <td>22.0</td>\n",
       "      <td>1</td>\n",
       "      <td>0</td>\n",
       "      <td>A/5 21171</td>\n",
       "      <td>7.2500</td>\n",
       "      <td>NaN</td>\n",
       "      <td>S</td>\n",
       "    </tr>\n",
       "    <tr>\n",
       "      <th>1</th>\n",
       "      <td>1</td>\n",
       "      <td>1</td>\n",
       "      <td>female</td>\n",
       "      <td>38.0</td>\n",
       "      <td>1</td>\n",
       "      <td>0</td>\n",
       "      <td>PC 17599</td>\n",
       "      <td>71.2833</td>\n",
       "      <td>C85</td>\n",
       "      <td>C</td>\n",
       "    </tr>\n",
       "    <tr>\n",
       "      <th>2</th>\n",
       "      <td>1</td>\n",
       "      <td>3</td>\n",
       "      <td>female</td>\n",
       "      <td>26.0</td>\n",
       "      <td>0</td>\n",
       "      <td>0</td>\n",
       "      <td>STON/O2. 3101282</td>\n",
       "      <td>7.9250</td>\n",
       "      <td>NaN</td>\n",
       "      <td>S</td>\n",
       "    </tr>\n",
       "    <tr>\n",
       "      <th>3</th>\n",
       "      <td>1</td>\n",
       "      <td>1</td>\n",
       "      <td>female</td>\n",
       "      <td>35.0</td>\n",
       "      <td>1</td>\n",
       "      <td>0</td>\n",
       "      <td>113803</td>\n",
       "      <td>53.1000</td>\n",
       "      <td>C123</td>\n",
       "      <td>S</td>\n",
       "    </tr>\n",
       "    <tr>\n",
       "      <th>4</th>\n",
       "      <td>0</td>\n",
       "      <td>3</td>\n",
       "      <td>male</td>\n",
       "      <td>35.0</td>\n",
       "      <td>0</td>\n",
       "      <td>0</td>\n",
       "      <td>373450</td>\n",
       "      <td>8.0500</td>\n",
       "      <td>NaN</td>\n",
       "      <td>S</td>\n",
       "    </tr>\n",
       "  </tbody>\n",
       "</table>\n",
       "</div>"
      ],
      "text/plain": [
       "   Survived  Pclass     Sex   Age  SibSp  Parch            Ticket     Fare  \\\n",
       "0         0       3    male  22.0      1      0         A/5 21171   7.2500   \n",
       "1         1       1  female  38.0      1      0          PC 17599  71.2833   \n",
       "2         1       3  female  26.0      0      0  STON/O2. 3101282   7.9250   \n",
       "3         1       1  female  35.0      1      0            113803  53.1000   \n",
       "4         0       3    male  35.0      0      0            373450   8.0500   \n",
       "\n",
       "  Cabin Embarked  \n",
       "0   NaN        S  \n",
       "1   C85        C  \n",
       "2   NaN        S  \n",
       "3  C123        S  \n",
       "4   NaN        S  "
      ]
     },
     "execution_count": 17,
     "metadata": {},
     "output_type": "execute_result"
    }
   ],
   "source": [
    "train.drop(['Family', 'Single', 'Fare Range'], axis = 'columns', inplace = True)\n",
    "\n",
    "train.head()"
   ]
  },
  {
   "cell_type": "markdown",
   "id": "e736f9d7",
   "metadata": {},
   "source": [
    "### Target feature - Survived "
   ]
  },
  {
   "cell_type": "code",
   "execution_count": 18,
   "id": "20e49908",
   "metadata": {},
   "outputs": [],
   "source": [
    "Y_train = train['Survived']"
   ]
  },
  {
   "cell_type": "markdown",
   "id": "d12d6cea",
   "metadata": {},
   "source": [
    "### Dropping Target Feature."
   ]
  },
  {
   "cell_type": "code",
   "execution_count": 19,
   "id": "1d2c6834",
   "metadata": {},
   "outputs": [],
   "source": [
    "train.drop('Survived', axis = 'columns', inplace = True)"
   ]
  },
  {
   "cell_type": "markdown",
   "id": "d864bb06",
   "metadata": {},
   "source": [
    "### Adding a columns for splitting data to train and test data sets."
   ]
  },
  {
   "cell_type": "code",
   "execution_count": 20,
   "id": "84517e11",
   "metadata": {},
   "outputs": [],
   "source": [
    "train['Data'] = 'train'\n",
    "\n",
    "test['Data'] = 'test'"
   ]
  },
  {
   "cell_type": "markdown",
   "id": "f1ce104a",
   "metadata": {},
   "source": [
    "### Concatenating train and test data sets for data preprocessing."
   ]
  },
  {
   "cell_type": "code",
   "execution_count": 21,
   "id": "314894a0",
   "metadata": {},
   "outputs": [
    {
     "name": "stdout",
     "output_type": "stream",
     "text": [
      "Train Data Set : (891, 10) \n",
      "Test Data Set : (418, 10) \n",
      "Concatenated Data Set : (1309, 10)\n"
     ]
    }
   ],
   "source": [
    "titanic = pd.concat([train, test], axis = 'rows')\n",
    "\n",
    "print(f'Train Data Set : {train.shape} \\nTest Data Set : {test.shape} \\nConcatenated Data Set : {titanic.shape}')"
   ]
  },
  {
   "cell_type": "markdown",
   "id": "fb017e91",
   "metadata": {},
   "source": [
    "### Dropping unnecessary features."
   ]
  },
  {
   "cell_type": "code",
   "execution_count": 22,
   "id": "ec826b20",
   "metadata": {},
   "outputs": [
    {
     "name": "stdout",
     "output_type": "stream",
     "text": [
      "<class 'pandas.core.frame.DataFrame'>\n",
      "Int64Index: 1309 entries, 0 to 417\n",
      "Data columns (total 7 columns):\n",
      " #   Column    Non-Null Count  Dtype  \n",
      "---  ------    --------------  -----  \n",
      " 0   Pclass    1309 non-null   int64  \n",
      " 1   Sex       1309 non-null   object \n",
      " 2   Age       1046 non-null   float64\n",
      " 3   SibSp     1309 non-null   int64  \n",
      " 4   Parch     1309 non-null   int64  \n",
      " 5   Embarked  1307 non-null   object \n",
      " 6   Data      1309 non-null   object \n",
      "dtypes: float64(1), int64(3), object(3)\n",
      "memory usage: 81.8+ KB\n",
      "None\n"
     ]
    }
   ],
   "source": [
    "titanic.drop(['Ticket','Fare', 'Cabin'], axis = 'columns', inplace = True)\n",
    "\n",
    "print(titanic.info())"
   ]
  },
  {
   "cell_type": "markdown",
   "id": "6a702afb",
   "metadata": {},
   "source": [
    "### Converting sex feature to numerical."
   ]
  },
  {
   "cell_type": "code",
   "execution_count": 23,
   "id": "a2ca93ff",
   "metadata": {},
   "outputs": [
    {
     "name": "stdout",
     "output_type": "stream",
     "text": [
      "<class 'pandas.core.frame.DataFrame'>\n",
      "Int64Index: 1309 entries, 0 to 417\n",
      "Data columns (total 7 columns):\n",
      " #   Column    Non-Null Count  Dtype  \n",
      "---  ------    --------------  -----  \n",
      " 0   Pclass    1309 non-null   int64  \n",
      " 1   Sex       1309 non-null   int32  \n",
      " 2   Age       1046 non-null   float64\n",
      " 3   SibSp     1309 non-null   int64  \n",
      " 4   Parch     1309 non-null   int64  \n",
      " 5   Embarked  1307 non-null   object \n",
      " 6   Data      1309 non-null   object \n",
      "dtypes: float64(1), int32(1), int64(3), object(2)\n",
      "memory usage: 76.7+ KB\n"
     ]
    }
   ],
   "source": [
    "titanic['Sex'] = np.where(titanic['Sex'] == 'male', 1, 0)\n",
    "\n",
    "titanic.info()"
   ]
  },
  {
   "cell_type": "markdown",
   "id": "8b7660f0",
   "metadata": {},
   "source": [
    "### Checking missing values."
   ]
  },
  {
   "cell_type": "code",
   "execution_count": 24,
   "id": "8c8c5cd4",
   "metadata": {},
   "outputs": [
    {
     "data": {
      "text/plain": [
       "Pclass        0\n",
       "Sex           0\n",
       "Age         263\n",
       "SibSp         0\n",
       "Parch         0\n",
       "Embarked      2\n",
       "Data          0\n",
       "dtype: int64"
      ]
     },
     "execution_count": 24,
     "metadata": {},
     "output_type": "execute_result"
    }
   ],
   "source": [
    "titanic.isnull().sum()"
   ]
  },
  {
   "cell_type": "markdown",
   "id": "a1e334af",
   "metadata": {},
   "source": [
    "### Importing SimpleImputer library to fill missing values."
   ]
  },
  {
   "cell_type": "code",
   "execution_count": 25,
   "id": "5597e80a",
   "metadata": {},
   "outputs": [],
   "source": [
    "from sklearn.impute import SimpleImputer"
   ]
  },
  {
   "cell_type": "markdown",
   "id": "684d185d",
   "metadata": {},
   "source": [
    "### Imputing missing data in age with the mean of age data.\n"
   ]
  },
  {
   "cell_type": "code",
   "execution_count": 26,
   "id": "f9d39344",
   "metadata": {},
   "outputs": [],
   "source": [
    "imputer = SimpleImputer(missing_values = np.nan, strategy = 'mean')\n",
    "\n",
    "imputer.fit(titanic[['Age']])\n",
    "\n",
    "titanic[['Age']] = imputer.transform(titanic[['Age']])"
   ]
  },
  {
   "cell_type": "markdown",
   "id": "0b3ded06",
   "metadata": {},
   "source": [
    "### Imputing missing categorical data with the most frequent data in embarked."
   ]
  },
  {
   "cell_type": "code",
   "execution_count": 27,
   "id": "30bb9da0",
   "metadata": {},
   "outputs": [],
   "source": [
    "imputer = SimpleImputer(missing_values = np.nan, strategy = 'most_frequent')\n",
    "\n",
    "imputer.fit(titanic[['Embarked']])\n",
    "\n",
    "titanic[['Embarked']] = imputer.transform(titanic[['Embarked']])"
   ]
  },
  {
   "cell_type": "markdown",
   "id": "53cb0426",
   "metadata": {},
   "source": [
    "### Converting age to integer."
   ]
  },
  {
   "cell_type": "code",
   "execution_count": 28,
   "id": "076fa4aa",
   "metadata": {},
   "outputs": [],
   "source": [
    "titanic['Age'] = titanic['Age'].astype(int)"
   ]
  },
  {
   "cell_type": "code",
   "execution_count": 29,
   "id": "0e70828b",
   "metadata": {},
   "outputs": [
    {
     "data": {
      "text/plain": [
       "Pclass      0\n",
       "Sex         0\n",
       "Age         0\n",
       "SibSp       0\n",
       "Parch       0\n",
       "Embarked    0\n",
       "Data        0\n",
       "dtype: int64"
      ]
     },
     "execution_count": 29,
     "metadata": {},
     "output_type": "execute_result"
    }
   ],
   "source": [
    "titanic.isnull().sum()"
   ]
  },
  {
   "cell_type": "code",
   "execution_count": 30,
   "id": "9b6c4aab",
   "metadata": {},
   "outputs": [
    {
     "name": "stdout",
     "output_type": "stream",
     "text": [
      "<class 'pandas.core.frame.DataFrame'>\n",
      "Int64Index: 1309 entries, 0 to 417\n",
      "Data columns (total 7 columns):\n",
      " #   Column    Non-Null Count  Dtype \n",
      "---  ------    --------------  ----- \n",
      " 0   Pclass    1309 non-null   int64 \n",
      " 1   Sex       1309 non-null   int32 \n",
      " 2   Age       1309 non-null   int32 \n",
      " 3   SibSp     1309 non-null   int64 \n",
      " 4   Parch     1309 non-null   int64 \n",
      " 5   Embarked  1309 non-null   object\n",
      " 6   Data      1309 non-null   object\n",
      "dtypes: int32(2), int64(3), object(2)\n",
      "memory usage: 71.6+ KB\n"
     ]
    }
   ],
   "source": [
    "titanic.info()"
   ]
  },
  {
   "cell_type": "markdown",
   "id": "dfef9c40",
   "metadata": {},
   "source": [
    "### Embarked feature is categorical. Label encoding the embarked feature to convert categorical data into numeric data."
   ]
  },
  {
   "cell_type": "code",
   "execution_count": 31,
   "id": "6e686e2e",
   "metadata": {},
   "outputs": [],
   "source": [
    "from sklearn.preprocessing import LabelEncoder"
   ]
  },
  {
   "cell_type": "code",
   "execution_count": 32,
   "id": "7ef09722",
   "metadata": {},
   "outputs": [],
   "source": [
    "label_encoder = LabelEncoder()"
   ]
  },
  {
   "cell_type": "code",
   "execution_count": 33,
   "id": "8316fcb8",
   "metadata": {},
   "outputs": [
    {
     "data": {
      "text/html": [
       "<div>\n",
       "<style scoped>\n",
       "    .dataframe tbody tr th:only-of-type {\n",
       "        vertical-align: middle;\n",
       "    }\n",
       "\n",
       "    .dataframe tbody tr th {\n",
       "        vertical-align: top;\n",
       "    }\n",
       "\n",
       "    .dataframe thead th {\n",
       "        text-align: right;\n",
       "    }\n",
       "</style>\n",
       "<table border=\"1\" class=\"dataframe\">\n",
       "  <thead>\n",
       "    <tr style=\"text-align: right;\">\n",
       "      <th></th>\n",
       "      <th>Pclass</th>\n",
       "      <th>Sex</th>\n",
       "      <th>Age</th>\n",
       "      <th>SibSp</th>\n",
       "      <th>Parch</th>\n",
       "      <th>Embarked</th>\n",
       "      <th>Data</th>\n",
       "    </tr>\n",
       "  </thead>\n",
       "  <tbody>\n",
       "    <tr>\n",
       "      <th>0</th>\n",
       "      <td>3</td>\n",
       "      <td>1</td>\n",
       "      <td>22</td>\n",
       "      <td>1</td>\n",
       "      <td>0</td>\n",
       "      <td>2</td>\n",
       "      <td>train</td>\n",
       "    </tr>\n",
       "    <tr>\n",
       "      <th>1</th>\n",
       "      <td>1</td>\n",
       "      <td>0</td>\n",
       "      <td>38</td>\n",
       "      <td>1</td>\n",
       "      <td>0</td>\n",
       "      <td>0</td>\n",
       "      <td>train</td>\n",
       "    </tr>\n",
       "    <tr>\n",
       "      <th>2</th>\n",
       "      <td>3</td>\n",
       "      <td>0</td>\n",
       "      <td>26</td>\n",
       "      <td>0</td>\n",
       "      <td>0</td>\n",
       "      <td>2</td>\n",
       "      <td>train</td>\n",
       "    </tr>\n",
       "    <tr>\n",
       "      <th>3</th>\n",
       "      <td>1</td>\n",
       "      <td>0</td>\n",
       "      <td>35</td>\n",
       "      <td>1</td>\n",
       "      <td>0</td>\n",
       "      <td>2</td>\n",
       "      <td>train</td>\n",
       "    </tr>\n",
       "    <tr>\n",
       "      <th>4</th>\n",
       "      <td>3</td>\n",
       "      <td>1</td>\n",
       "      <td>35</td>\n",
       "      <td>0</td>\n",
       "      <td>0</td>\n",
       "      <td>2</td>\n",
       "      <td>train</td>\n",
       "    </tr>\n",
       "  </tbody>\n",
       "</table>\n",
       "</div>"
      ],
      "text/plain": [
       "   Pclass  Sex  Age  SibSp  Parch  Embarked   Data\n",
       "0       3    1   22      1      0         2  train\n",
       "1       1    0   38      1      0         0  train\n",
       "2       3    0   26      0      0         2  train\n",
       "3       1    0   35      1      0         2  train\n",
       "4       3    1   35      0      0         2  train"
      ]
     },
     "execution_count": 33,
     "metadata": {},
     "output_type": "execute_result"
    }
   ],
   "source": [
    "titanic['Embarked'] = label_encoder.fit_transform(titanic['Embarked'])\n",
    "\n",
    "titanic.head()"
   ]
  },
  {
   "cell_type": "code",
   "execution_count": 34,
   "id": "39e961e3",
   "metadata": {},
   "outputs": [
    {
     "name": "stdout",
     "output_type": "stream",
     "text": [
      "<class 'pandas.core.frame.DataFrame'>\n",
      "Int64Index: 1309 entries, 0 to 417\n",
      "Data columns (total 7 columns):\n",
      " #   Column    Non-Null Count  Dtype \n",
      "---  ------    --------------  ----- \n",
      " 0   Pclass    1309 non-null   int64 \n",
      " 1   Sex       1309 non-null   int32 \n",
      " 2   Age       1309 non-null   int32 \n",
      " 3   SibSp     1309 non-null   int64 \n",
      " 4   Parch     1309 non-null   int64 \n",
      " 5   Embarked  1309 non-null   int32 \n",
      " 6   Data      1309 non-null   object\n",
      "dtypes: int32(3), int64(3), object(1)\n",
      "memory usage: 66.5+ KB\n"
     ]
    }
   ],
   "source": [
    "titanic.info()"
   ]
  },
  {
   "cell_type": "markdown",
   "id": "5e2b7927",
   "metadata": {},
   "source": [
    "## Preparation for machine learning is complete.\n"
   ]
  },
  {
   "cell_type": "markdown",
   "id": "16415d25",
   "metadata": {},
   "source": [
    "### Splitting the data into train and test features."
   ]
  },
  {
   "cell_type": "code",
   "execution_count": 35,
   "id": "caaf6d0a",
   "metadata": {},
   "outputs": [],
   "source": [
    "train = titanic[titanic['Data'] == 'train']\n",
    "\n",
    "test = titanic[titanic['Data'] == 'test']"
   ]
  },
  {
   "cell_type": "code",
   "execution_count": 36,
   "id": "770e15d8",
   "metadata": {},
   "outputs": [],
   "source": [
    "train = train.drop('Data', axis = 'columns')\n",
    "test = test.drop('Data', axis = 'columns')"
   ]
  },
  {
   "cell_type": "code",
   "execution_count": 37,
   "id": "d670ad41",
   "metadata": {},
   "outputs": [
    {
     "name": "stdout",
     "output_type": "stream",
     "text": [
      "Training Data Set : (891, 6) Testing Data Set : (418, 6)\n"
     ]
    }
   ],
   "source": [
    "print(f'Training Data Set : {train.shape} Testing Data Set : {test.shape}')"
   ]
  },
  {
   "cell_type": "markdown",
   "id": "f8f4b70c",
   "metadata": {},
   "source": [
    "### Importing StandardScaler\n"
   ]
  },
  {
   "cell_type": "code",
   "execution_count": 38,
   "id": "5738700a",
   "metadata": {},
   "outputs": [],
   "source": [
    "from sklearn.preprocessing import StandardScaler"
   ]
  },
  {
   "cell_type": "code",
   "execution_count": 39,
   "id": "49a40a8c",
   "metadata": {},
   "outputs": [],
   "source": [
    "scaler = StandardScaler()"
   ]
  },
  {
   "cell_type": "code",
   "execution_count": 40,
   "id": "1581a7f3",
   "metadata": {},
   "outputs": [],
   "source": [
    "X_train = scaler.fit_transform(train)\n",
    "X_test = scaler.fit_transform(test)"
   ]
  },
  {
   "cell_type": "code",
   "execution_count": 41,
   "id": "7e9ed691",
   "metadata": {
    "scrolled": true
   },
   "outputs": [
    {
     "data": {
      "text/plain": [
       "array([[ 0.82737724,  0.73769513, -0.58004441,  0.43279337, -0.47367361,\n",
       "         0.58595414],\n",
       "       [-1.56610693, -1.35557354,  0.65011226,  0.43279337, -0.47367361,\n",
       "        -1.9423032 ],\n",
       "       [ 0.82737724, -1.35557354, -0.27250525, -0.4745452 , -0.47367361,\n",
       "         0.58595414],\n",
       "       ...,\n",
       "       [ 0.82737724, -1.35557354, -0.04185087,  0.43279337,  2.00893337,\n",
       "         0.58595414],\n",
       "       [-1.56610693,  0.73769513, -0.27250525, -0.4745452 , -0.47367361,\n",
       "        -1.9423032 ],\n",
       "       [ 0.82737724,  0.73769513,  0.18880351, -0.4745452 , -0.47367361,\n",
       "        -0.67817453]])"
      ]
     },
     "execution_count": 41,
     "metadata": {},
     "output_type": "execute_result"
    }
   ],
   "source": [
    "X_train"
   ]
  },
  {
   "cell_type": "markdown",
   "id": "145af0cc",
   "metadata": {},
   "source": [
    "## Classification models\n"
   ]
  },
  {
   "cell_type": "markdown",
   "id": "4f575f66",
   "metadata": {},
   "source": [
    "## 1.Logistic regression"
   ]
  },
  {
   "cell_type": "code",
   "execution_count": 42,
   "id": "ed98876d",
   "metadata": {},
   "outputs": [],
   "source": [
    "from sklearn.linear_model import LogisticRegression\n",
    "\n",
    "lr_classifier = LogisticRegression(random_state = 1)"
   ]
  },
  {
   "cell_type": "code",
   "execution_count": 43,
   "id": "fd3a70da",
   "metadata": {},
   "outputs": [
    {
     "data": {
      "text/plain": [
       "LogisticRegression(random_state=1)"
      ]
     },
     "execution_count": 43,
     "metadata": {},
     "output_type": "execute_result"
    }
   ],
   "source": [
    "lr_classifier.fit(X_train, Y_train)"
   ]
  },
  {
   "cell_type": "markdown",
   "id": "ff7faf16",
   "metadata": {},
   "source": [
    "### Prediction made by logistic regression classifier on test data."
   ]
  },
  {
   "cell_type": "code",
   "execution_count": 44,
   "id": "0685c132",
   "metadata": {},
   "outputs": [],
   "source": [
    "Y_prediction = lr_classifier.predict(X_test)"
   ]
  },
  {
   "cell_type": "code",
   "execution_count": 45,
   "id": "d96caf54",
   "metadata": {},
   "outputs": [],
   "source": [
    "from sklearn.model_selection import cross_val_score"
   ]
  },
  {
   "cell_type": "markdown",
   "id": "a0ddd367",
   "metadata": {},
   "source": [
    "### Evaluating estimated performance."
   ]
  },
  {
   "cell_type": "code",
   "execution_count": 46,
   "id": "a40a9aea",
   "metadata": {},
   "outputs": [
    {
     "name": "stdout",
     "output_type": "stream",
     "text": [
      "Cross Validation Score of Logistic Regression Classifier : 79.57%\n"
     ]
    }
   ],
   "source": [
    "lr_score = cross_val_score(lr_classifier, X_train, Y_train, cv = 10, scoring = 'accuracy').mean()\n",
    "\n",
    "print(f'Cross Validation Score of Logistic Regression Classifier : {lr_score*100:.2f}%')"
   ]
  },
  {
   "cell_type": "markdown",
   "id": "5132766e",
   "metadata": {},
   "source": [
    "## 2.K nearest neighbors"
   ]
  },
  {
   "cell_type": "code",
   "execution_count": 47,
   "id": "da13a513",
   "metadata": {},
   "outputs": [],
   "source": [
    "from sklearn.neighbors import KNeighborsClassifier\n",
    "\n",
    "KNN_classifier = KNeighborsClassifier(n_neighbors = 5)"
   ]
  },
  {
   "cell_type": "code",
   "execution_count": 48,
   "id": "8a1545bf",
   "metadata": {},
   "outputs": [
    {
     "data": {
      "text/plain": [
       "KNeighborsClassifier()"
      ]
     },
     "execution_count": 48,
     "metadata": {},
     "output_type": "execute_result"
    }
   ],
   "source": [
    "KNN_classifier.fit(X_train, Y_train)"
   ]
  },
  {
   "cell_type": "markdown",
   "id": "ff371af1",
   "metadata": {},
   "source": [
    "### Prediction made by K Nearest Neighbors classifier on test data."
   ]
  },
  {
   "cell_type": "code",
   "execution_count": 49,
   "id": "e9e443a2",
   "metadata": {},
   "outputs": [],
   "source": [
    "Y_prediction = KNN_classifier.predict(X_test)"
   ]
  },
  {
   "cell_type": "markdown",
   "id": "9ed5b0dd",
   "metadata": {},
   "source": [
    "### Evaluation"
   ]
  },
  {
   "cell_type": "code",
   "execution_count": 50,
   "id": "059f74d0",
   "metadata": {},
   "outputs": [
    {
     "name": "stdout",
     "output_type": "stream",
     "text": [
      "Cross Validation Score of K Nearest Neighbors Classifier : 79.46%\n"
     ]
    }
   ],
   "source": [
    "KNN_score = cross_val_score(KNN_classifier, X_train, Y_train, cv = 10, scoring = 'accuracy').mean()\n",
    "\n",
    "print(f'Cross Validation Score of K Nearest Neighbors Classifier : {KNN_score*100:.2f}%')"
   ]
  },
  {
   "cell_type": "markdown",
   "id": "b1854e25",
   "metadata": {},
   "source": [
    "## 3.Decision tree classifier"
   ]
  },
  {
   "cell_type": "code",
   "execution_count": 51,
   "id": "8f809e62",
   "metadata": {},
   "outputs": [],
   "source": [
    "from sklearn.tree import DecisionTreeClassifier\n",
    "\n",
    "DT_classifier = DecisionTreeClassifier()"
   ]
  },
  {
   "cell_type": "code",
   "execution_count": 52,
   "id": "3a838468",
   "metadata": {},
   "outputs": [
    {
     "data": {
      "text/plain": [
       "DecisionTreeClassifier()"
      ]
     },
     "execution_count": 52,
     "metadata": {},
     "output_type": "execute_result"
    }
   ],
   "source": [
    "DT_classifier.fit(X_train, Y_train)"
   ]
  },
  {
   "cell_type": "code",
   "execution_count": 53,
   "id": "19bdfe5a",
   "metadata": {},
   "outputs": [],
   "source": [
    "Y_prediction = DT_classifier.predict(X_test)"
   ]
  },
  {
   "cell_type": "code",
   "execution_count": 54,
   "id": "b0a24f03",
   "metadata": {},
   "outputs": [
    {
     "name": "stdout",
     "output_type": "stream",
     "text": [
      "Cross Validation Score of Decision Tree Classifier : 78.91%\n"
     ]
    }
   ],
   "source": [
    "DT_score = cross_val_score(DT_classifier, X_train, Y_train, cv = 10, scoring = 'accuracy').mean()\n",
    "\n",
    "print(f'Cross Validation Score of Decision Tree Classifier : {DT_score*100:.2f}%')"
   ]
  },
  {
   "cell_type": "markdown",
   "id": "a55b0ae6",
   "metadata": {},
   "source": [
    "## 4.Random forest classifier"
   ]
  },
  {
   "cell_type": "code",
   "execution_count": 55,
   "id": "dbbe5620",
   "metadata": {},
   "outputs": [],
   "source": [
    "from sklearn.ensemble import RandomForestClassifier\n",
    "\n",
    "RF_classifier = RandomForestClassifier(n_estimators = 10, criterion = 'entropy', random_state = 1)"
   ]
  },
  {
   "cell_type": "code",
   "execution_count": 56,
   "id": "178eac71",
   "metadata": {},
   "outputs": [
    {
     "data": {
      "text/plain": [
       "RandomForestClassifier(criterion='entropy', n_estimators=10, random_state=1)"
      ]
     },
     "execution_count": 56,
     "metadata": {},
     "output_type": "execute_result"
    }
   ],
   "source": [
    "RF_classifier.fit(X_train, Y_train)"
   ]
  },
  {
   "cell_type": "code",
   "execution_count": 57,
   "id": "ca4fb868",
   "metadata": {},
   "outputs": [],
   "source": [
    "Y_prediction = RF_classifier.predict(X_test)"
   ]
  },
  {
   "cell_type": "code",
   "execution_count": 58,
   "id": "f6e884b1",
   "metadata": {},
   "outputs": [
    {
     "name": "stdout",
     "output_type": "stream",
     "text": [
      "Cross Validation Score of Random Forest Classifier : 81.49%\n"
     ]
    }
   ],
   "source": [
    "RF_score = cross_val_score(RF_classifier, X_train, Y_train, cv = 10, scoring = 'accuracy').mean()\n",
    "\n",
    "print(f'Cross Validation Score of Random Forest Classifier : {RF_score*100:.2f}%')"
   ]
  },
  {
   "cell_type": "markdown",
   "id": "bd17b552",
   "metadata": {},
   "source": [
    "## 5.Support vector classifier"
   ]
  },
  {
   "cell_type": "code",
   "execution_count": 59,
   "id": "22684b93",
   "metadata": {},
   "outputs": [],
   "source": [
    "from sklearn.svm import SVC\n",
    "\n",
    "SV_classifier = SVC()"
   ]
  },
  {
   "cell_type": "code",
   "execution_count": 60,
   "id": "d9f4350f",
   "metadata": {},
   "outputs": [
    {
     "data": {
      "text/plain": [
       "SVC()"
      ]
     },
     "execution_count": 60,
     "metadata": {},
     "output_type": "execute_result"
    }
   ],
   "source": [
    "SV_classifier.fit(X_train, Y_train)"
   ]
  },
  {
   "cell_type": "code",
   "execution_count": 61,
   "id": "9a755d01",
   "metadata": {},
   "outputs": [],
   "source": [
    "Y_prediction = SV_classifier.predict(X_test)"
   ]
  },
  {
   "cell_type": "code",
   "execution_count": 62,
   "id": "09a1ba99",
   "metadata": {},
   "outputs": [
    {
     "name": "stdout",
     "output_type": "stream",
     "text": [
      "Cross Validation Score of Suppport Vector Classifier : 82.38%\n"
     ]
    }
   ],
   "source": [
    "SVC_score = cross_val_score(SV_classifier, X_train, Y_train, cv = 10, scoring = 'accuracy').mean()\n",
    "\n",
    "print(f'Cross Validation Score of Suppport Vector Classifier : {SVC_score*100:.2f}%')"
   ]
  },
  {
   "cell_type": "markdown",
   "id": "e076c06a",
   "metadata": {},
   "source": [
    "## Data frame representing accuracy scores of used classifiers."
   ]
  },
  {
   "cell_type": "code",
   "execution_count": 63,
   "id": "ee08f96a",
   "metadata": {},
   "outputs": [],
   "source": [
    "Accuracy = pd.DataFrame({'Classifier' : ['Logistic Regression', 'K Nearest Neighbors', 'Decision Tree', 'Random Forest', 'Support Vector'],\n",
    "'Score' : [lr_score, KNN_score, DT_score, RF_score, SVC_score]},\n",
    "columns = ['Classifier', 'Score'])"
   ]
  },
  {
   "cell_type": "code",
   "execution_count": 64,
   "id": "6eb105bd",
   "metadata": {},
   "outputs": [
    {
     "name": "stdout",
     "output_type": "stream",
     "text": [
      "            Classifier     Score\n",
      "0  Logistic Regression  0.795743\n",
      "1  K Nearest Neighbors  0.794644\n",
      "2        Decision Tree  0.789089\n",
      "3        Random Forest  0.814869\n",
      "4       Support Vector  0.823820\n"
     ]
    }
   ],
   "source": [
    "print(Accuracy)"
   ]
  },
  {
   "cell_type": "markdown",
   "id": "0f22708b",
   "metadata": {},
   "source": [
    "### Importing test data set for selecting PassengerId column."
   ]
  },
  {
   "cell_type": "code",
   "execution_count": 65,
   "id": "2aada84a",
   "metadata": {},
   "outputs": [],
   "source": [
    "test = pd.read_csv('test.csv')"
   ]
  },
  {
   "cell_type": "markdown",
   "id": "0134b991",
   "metadata": {},
   "source": [
    "### Creating data frame for submission of predictions."
   ]
  },
  {
   "cell_type": "code",
   "execution_count": 66,
   "id": "85d906ce",
   "metadata": {},
   "outputs": [],
   "source": [
    "submission = pd.DataFrame({'PassengerId' : test['PassengerId'],\n",
    "'Survived' : Y_prediction})"
   ]
  },
  {
   "cell_type": "code",
   "execution_count": 67,
   "id": "57b24fcc",
   "metadata": {},
   "outputs": [
    {
     "name": "stdout",
     "output_type": "stream",
     "text": [
      "0    286\n",
      "1    132\n",
      "Name: Survived, dtype: int64\n"
     ]
    }
   ],
   "source": [
    "print(submission['Survived'].value_counts())"
   ]
  },
  {
   "cell_type": "code",
   "execution_count": 68,
   "id": "19bf24fe",
   "metadata": {},
   "outputs": [],
   "source": [
    "submission.to_csv('Titanic_Prediction.csv', index = False)"
   ]
  },
  {
   "cell_type": "code",
   "execution_count": null,
   "id": "6e219574",
   "metadata": {},
   "outputs": [],
   "source": []
  }
 ],
 "metadata": {
  "kernelspec": {
   "display_name": "Python 3 (ipykernel)",
   "language": "python",
   "name": "python3"
  },
  "language_info": {
   "codemirror_mode": {
    "name": "ipython",
    "version": 3
   },
   "file_extension": ".py",
   "mimetype": "text/x-python",
   "name": "python",
   "nbconvert_exporter": "python",
   "pygments_lexer": "ipython3",
   "version": "3.9.7"
  }
 },
 "nbformat": 4,
 "nbformat_minor": 5
}
